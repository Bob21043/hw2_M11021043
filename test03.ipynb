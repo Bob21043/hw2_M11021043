{
 "cells": [
  {
   "cell_type": "code",
   "execution_count": 1,
   "metadata": {},
   "outputs": [],
   "source": [
    "import pandas as pd\n",
    "import requests\n",
    "from datetime import datetime\n",
    "import os\n",
    "import openpyxl\n"
   ]
  },
  {
   "cell_type": "code",
   "execution_count": 2,
   "metadata": {},
   "outputs": [],
   "source": [
    "def get_stock_data(stock_code):\n",
    "    url = f'https://mis.twse.com.tw/stock/api/getStockInfo.jsp?ex_ch=tse_{stock_code}.tw'\n",
    "    response = requests.get(url)\n",
    "    data = response.json()['msgArray'][0]\n",
    "    return data"
   ]
  },
  {
   "cell_type": "code",
   "execution_count": 3,
   "metadata": {},
   "outputs": [],
   "source": [
    "def create_excel(data, stock_code):\n",
    "    df = pd.DataFrame([data])  # 將單個字典包裝成列表\n",
    "    excel_path = r'C:\\Users\\Bob\\Desktop\\雲科碩班\\資料探勘\\爬蟲'\n",
    "\n",
    "    if not os.path.exists(excel_path):\n",
    "        os.makedirs(excel_path)\n",
    "\n",
    "    file_name = os.path.join(excel_path, f'stock_{stock_code}_{datetime.now().strftime(\"%Y%m%d\")}.xlsx')\n",
    "    df.to_excel(file_name, index=False)\n",
    "    print(f'Excel file created: {file_name}')"
   ]
  },
  {
   "cell_type": "code",
   "execution_count": 4,
   "metadata": {},
   "outputs": [
    {
     "name": "stdout",
     "output_type": "stream",
     "text": [
      "Excel file created: C:\\Users\\Bob\\Desktop\\雲科碩班\\資料探勘\\爬蟲\\stock_1101_20231130.xlsx\n",
      "Excel file created: C:\\Users\\Bob\\Desktop\\雲科碩班\\資料探勘\\爬蟲\\stock_2330_20231130.xlsx\n",
      "Excel file created: C:\\Users\\Bob\\Desktop\\雲科碩班\\資料探勘\\爬蟲\\stock_2317_20231130.xlsx\n"
     ]
    }
   ],
   "source": [
    "\n",
    "def main():\n",
    "    stock_codes = ['1101', '2330', '2317']\n",
    "    stock_data = []\n",
    "\n",
    "    for stock_code in stock_codes:\n",
    "        data = get_stock_data(stock_code)\n",
    "        stock_data.append({\n",
    "            '最近成交價': data['z'],\n",
    "            '當盤成交量': data['tv'],\n",
    "            '累積成交量': data['v'],\n",
    "            '最佳五檔（賣價）': data['a'],\n",
    "            '最佳五檔（賣量）': data['f'],\n",
    "            '最佳五檔（買價）': data['b'],\n",
    "            '最佳五檔（買量）': data['g'],\n",
    "        })\n",
    "\n",
    "    for i, stock_code in enumerate(stock_codes):\n",
    "        create_excel(stock_data[i], stock_code)\n",
    "\n",
    "if __name__ == '__main__':\n",
    "    main()"
   ]
  }
 ],
 "metadata": {
  "kernelspec": {
   "display_name": "Python 3",
   "language": "python",
   "name": "python3"
  },
  "language_info": {
   "codemirror_mode": {
    "name": "ipython",
    "version": 3
   },
   "file_extension": ".py",
   "mimetype": "text/x-python",
   "name": "python",
   "nbconvert_exporter": "python",
   "pygments_lexer": "ipython3",
   "version": "3.9.4"
  }
 },
 "nbformat": 4,
 "nbformat_minor": 2
}
