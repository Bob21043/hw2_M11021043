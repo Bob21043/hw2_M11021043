{
 "cells": [
  {
   "cell_type": "code",
   "execution_count": 1,
   "id": "5895fd2d",
   "metadata": {},
   "outputs": [],
   "source": [
    "import pandas as pd\n",
    "import numpy as np\n",
    "from sklearn import metrics\n",
    "#import statsmodels.formula.api as smf\n",
    "from sklearn import preprocessing\n",
    "from sklearn.preprocessing import LabelEncoder\n",
    "#Classification Algorithms \n",
    "from sklearn import ensemble\n",
    "from sklearn.ensemble import RandomForestRegressor\n",
    "from sklearn import metrics as m\n",
    "from sklearn.metrics import roc_auc_score\n",
    "from sklearn.model_selection import train_test_split\n",
    "from sklearn import tree\n",
    "from sklearn.metrics import mean_absolute_error\n",
    "from sklearn.metrics import mean_squared_error\n",
    "from sklearn.metrics import mean_absolute_percentage_error\n",
    "from math import sqrt\n",
    "# visualization\n",
    "import seaborn as sns\n",
    "import matplotlib.pyplot as plt\n",
    "%matplotlib inline"
   ]
  },
  {
   "cell_type": "code",
   "execution_count": 2,
   "id": "26dcf799",
   "metadata": {},
   "outputs": [
    {
     "data": {
      "text/html": [
       "<div>\n",
       "<style scoped>\n",
       "    .dataframe tbody tr th:only-of-type {\n",
       "        vertical-align: middle;\n",
       "    }\n",
       "\n",
       "    .dataframe tbody tr th {\n",
       "        vertical-align: top;\n",
       "    }\n",
       "\n",
       "    .dataframe thead th {\n",
       "        text-align: right;\n",
       "    }\n",
       "</style>\n",
       "<table border=\"1\" class=\"dataframe\">\n",
       "  <thead>\n",
       "    <tr style=\"text-align: right;\">\n",
       "      <th></th>\n",
       "      <th>year</th>\n",
       "      <th>month</th>\n",
       "      <th>day</th>\n",
       "      <th>hour</th>\n",
       "      <th>pm2.5</th>\n",
       "      <th>DEWP</th>\n",
       "      <th>TEMP</th>\n",
       "      <th>PRES</th>\n",
       "      <th>cbwd</th>\n",
       "      <th>Iws</th>\n",
       "      <th>Is</th>\n",
       "      <th>Ir</th>\n",
       "    </tr>\n",
       "  </thead>\n",
       "  <tbody>\n",
       "    <tr>\n",
       "      <th>0</th>\n",
       "      <td>2010</td>\n",
       "      <td>1</td>\n",
       "      <td>1</td>\n",
       "      <td>0</td>\n",
       "      <td>NaN</td>\n",
       "      <td>-21</td>\n",
       "      <td>-11.0</td>\n",
       "      <td>1021.0</td>\n",
       "      <td>NW</td>\n",
       "      <td>1.79</td>\n",
       "      <td>0</td>\n",
       "      <td>0</td>\n",
       "    </tr>\n",
       "    <tr>\n",
       "      <th>1</th>\n",
       "      <td>2010</td>\n",
       "      <td>1</td>\n",
       "      <td>1</td>\n",
       "      <td>1</td>\n",
       "      <td>NaN</td>\n",
       "      <td>-21</td>\n",
       "      <td>-12.0</td>\n",
       "      <td>1020.0</td>\n",
       "      <td>NW</td>\n",
       "      <td>4.92</td>\n",
       "      <td>0</td>\n",
       "      <td>0</td>\n",
       "    </tr>\n",
       "    <tr>\n",
       "      <th>2</th>\n",
       "      <td>2010</td>\n",
       "      <td>1</td>\n",
       "      <td>1</td>\n",
       "      <td>2</td>\n",
       "      <td>NaN</td>\n",
       "      <td>-21</td>\n",
       "      <td>-11.0</td>\n",
       "      <td>1019.0</td>\n",
       "      <td>NW</td>\n",
       "      <td>6.71</td>\n",
       "      <td>0</td>\n",
       "      <td>0</td>\n",
       "    </tr>\n",
       "    <tr>\n",
       "      <th>3</th>\n",
       "      <td>2010</td>\n",
       "      <td>1</td>\n",
       "      <td>1</td>\n",
       "      <td>3</td>\n",
       "      <td>NaN</td>\n",
       "      <td>-21</td>\n",
       "      <td>-14.0</td>\n",
       "      <td>1019.0</td>\n",
       "      <td>NW</td>\n",
       "      <td>9.84</td>\n",
       "      <td>0</td>\n",
       "      <td>0</td>\n",
       "    </tr>\n",
       "    <tr>\n",
       "      <th>4</th>\n",
       "      <td>2010</td>\n",
       "      <td>1</td>\n",
       "      <td>1</td>\n",
       "      <td>4</td>\n",
       "      <td>NaN</td>\n",
       "      <td>-20</td>\n",
       "      <td>-12.0</td>\n",
       "      <td>1018.0</td>\n",
       "      <td>NW</td>\n",
       "      <td>12.97</td>\n",
       "      <td>0</td>\n",
       "      <td>0</td>\n",
       "    </tr>\n",
       "  </tbody>\n",
       "</table>\n",
       "</div>"
      ],
      "text/plain": [
       "   year  month  day  hour  pm2.5  DEWP  TEMP    PRES cbwd    Iws  Is  Ir\n",
       "0  2010      1    1     0    NaN   -21 -11.0  1021.0   NW   1.79   0   0\n",
       "1  2010      1    1     1    NaN   -21 -12.0  1020.0   NW   4.92   0   0\n",
       "2  2010      1    1     2    NaN   -21 -11.0  1019.0   NW   6.71   0   0\n",
       "3  2010      1    1     3    NaN   -21 -14.0  1019.0   NW   9.84   0   0\n",
       "4  2010      1    1     4    NaN   -20 -12.0  1018.0   NW  12.97   0   0"
      ]
     },
     "execution_count": 2,
     "metadata": {},
     "output_type": "execute_result"
    }
   ],
   "source": [
    "data = pd.read_csv(\"pm2.5改.csv\",header='infer')\n",
    "data.head()"
   ]
  },
  {
   "cell_type": "code",
   "execution_count": 3,
   "id": "eb4b5fe9",
   "metadata": {},
   "outputs": [
    {
     "name": "stdout",
     "output_type": "stream",
     "text": [
      "        year  month    day   hour  pm2.5   DEWP   TEMP   PRES   cbwd    Iws  \\\n",
      "0      False  False  False  False   True  False  False  False  False  False   \n",
      "1      False  False  False  False   True  False  False  False  False  False   \n",
      "2      False  False  False  False   True  False  False  False  False  False   \n",
      "3      False  False  False  False   True  False  False  False  False  False   \n",
      "4      False  False  False  False   True  False  False  False  False  False   \n",
      "...      ...    ...    ...    ...    ...    ...    ...    ...    ...    ...   \n",
      "43819  False  False  False  False  False  False  False  False  False  False   \n",
      "43820  False  False  False  False  False  False  False  False  False  False   \n",
      "43821  False  False  False  False  False  False  False  False  False  False   \n",
      "43822  False  False  False  False  False  False  False  False  False  False   \n",
      "43823  False  False  False  False  False  False  False  False  False  False   \n",
      "\n",
      "          Is     Ir  \n",
      "0      False  False  \n",
      "1      False  False  \n",
      "2      False  False  \n",
      "3      False  False  \n",
      "4      False  False  \n",
      "...      ...    ...  \n",
      "43819  False  False  \n",
      "43820  False  False  \n",
      "43821  False  False  \n",
      "43822  False  False  \n",
      "43823  False  False  \n",
      "\n",
      "[43824 rows x 12 columns]\n"
     ]
    }
   ],
   "source": [
    "print(data.isnull()) #資料全筆數"
   ]
  },
  {
   "cell_type": "code",
   "execution_count": 4,
   "id": "85a61115",
   "metadata": {},
   "outputs": [
    {
     "data": {
      "text/plain": [
       "year        0\n",
       "month       0\n",
       "day         0\n",
       "hour        0\n",
       "pm2.5    2067\n",
       "DEWP        0\n",
       "TEMP        0\n",
       "PRES        0\n",
       "cbwd        0\n",
       "Iws         0\n",
       "Is          0\n",
       "Ir          0\n",
       "dtype: int64"
      ]
     },
     "execution_count": 4,
     "metadata": {},
     "output_type": "execute_result"
    }
   ],
   "source": [
    "data.isnull().sum()#確認有無缺失值"
   ]
  },
  {
   "cell_type": "code",
   "execution_count": 5,
   "id": "2a78c115",
   "metadata": {},
   "outputs": [],
   "source": [
    "data=data.dropna() #刪去有NA的資料"
   ]
  },
  {
   "cell_type": "code",
   "execution_count": 6,
   "id": "2b01e2f9",
   "metadata": {},
   "outputs": [
    {
     "name": "stdout",
     "output_type": "stream",
     "text": [
      "<class 'pandas.core.frame.DataFrame'>\n",
      "Int64Index: 41757 entries, 24 to 43823\n",
      "Data columns (total 12 columns):\n",
      " #   Column  Non-Null Count  Dtype  \n",
      "---  ------  --------------  -----  \n",
      " 0   year    41757 non-null  int64  \n",
      " 1   month   41757 non-null  int64  \n",
      " 2   day     41757 non-null  int64  \n",
      " 3   hour    41757 non-null  int64  \n",
      " 4   pm2.5   41757 non-null  float64\n",
      " 5   DEWP    41757 non-null  int64  \n",
      " 6   TEMP    41757 non-null  float64\n",
      " 7   PRES    41757 non-null  float64\n",
      " 8   cbwd    41757 non-null  object \n",
      " 9   Iws     41757 non-null  float64\n",
      " 10  Is      41757 non-null  int64  \n",
      " 11  Ir      41757 non-null  int64  \n",
      "dtypes: float64(4), int64(7), object(1)\n",
      "memory usage: 4.1+ MB\n"
     ]
    }
   ],
   "source": [
    "data.info()"
   ]
  },
  {
   "cell_type": "code",
   "execution_count": 7,
   "id": "2a111e1a",
   "metadata": {},
   "outputs": [
    {
     "data": {
      "text/plain": [
       "year  month  day  hour  pm2.5  DEWP  TEMP   PRES    cbwd  Iws     Is  Ir\n",
       "2010  1      2    0     129.0  -16   -4.0   1020.0  SE    1.79    0   0     1\n",
       "2013  5      25   10    43.0    9     27.0  1012.0  cv    1.78    0   0     1\n",
       "             24   16    146.0   15    23.0  1013.0  SE    7.15    0   0     1\n",
       "                  17    76.0    16    22.0  1012.0  SE    8.94    0   0     1\n",
       "                  18    56.0    15    23.0  1012.0  cv    0.89    0   0     1\n",
       "                                                                           ..\n",
       "2011  9      25   14    277.0   16    25.0  1016.0  SE    8.05    0   0     1\n",
       "                  15    260.0   15    25.0  1015.0  SE    11.18   0   0     1\n",
       "                  16    256.0   15    26.0  1015.0  SE    14.31   0   0     1\n",
       "                  17    256.0   16    24.0  1015.0  SE    16.10   0   0     1\n",
       "2014  12     31   23    12.0   -21   -3.0   1034.0  NW    249.85  0   0     1\n",
       "Length: 41757, dtype: int64"
      ]
     },
     "execution_count": 7,
     "metadata": {},
     "output_type": "execute_result"
    }
   ],
   "source": [
    "data.value_counts()#確認使用清洗後數據\n"
   ]
  },
  {
   "cell_type": "code",
   "execution_count": 8,
   "id": "9372ca8e",
   "metadata": {},
   "outputs": [],
   "source": [
    "# Convert the columns into categorical variables\n",
    "data1 = data.copy()\n",
    "data1['cbwd'] = data1['cbwd'].astype('category').cat.codes"
   ]
  },
  {
   "cell_type": "code",
   "execution_count": 9,
   "id": "5b15e64a",
   "metadata": {},
   "outputs": [
    {
     "data": {
      "text/plain": [
       "year       int64\n",
       "month      int64\n",
       "day        int64\n",
       "hour       int64\n",
       "pm2.5    float64\n",
       "DEWP       int64\n",
       "TEMP     float64\n",
       "PRES     float64\n",
       "cbwd        int8\n",
       "Iws      float64\n",
       "Is         int64\n",
       "Ir         int64\n",
       "dtype: object"
      ]
     },
     "execution_count": 9,
     "metadata": {},
     "output_type": "execute_result"
    }
   ],
   "source": [
    "data1.dtypes"
   ]
  },
  {
   "cell_type": "code",
   "execution_count": 10,
   "id": "81c6eff8",
   "metadata": {},
   "outputs": [
    {
     "name": "stdout",
     "output_type": "stream",
     "text": [
      "(41757, 12)\n"
     ]
    }
   ],
   "source": [
    "print(data1.shape)"
   ]
  },
  {
   "cell_type": "code",
   "execution_count": 11,
   "id": "1b7ce7a7",
   "metadata": {},
   "outputs": [],
   "source": [
    "y = data1['pm2.5']\n",
    "x=data1.drop(['pm2.5'], axis=1)\n",
    "x_train, x_test, y_train, y_test = train_test_split(x,y,test_size=0.20,random_state=42)"
   ]
  },
  {
   "cell_type": "code",
   "execution_count": 12,
   "id": "99ab5cd9",
   "metadata": {
    "scrolled": true
   },
   "outputs": [
    {
     "name": "stdout",
     "output_type": "stream",
     "text": [
      "Train data shape (33405, 11) (33405,)\n",
      "Test data shape (8352, 11) (8352,)\n"
     ]
    }
   ],
   "source": [
    "print('Train data shape {} {}'.format(x_train.shape, y_train.shape))\n",
    "print('Test data shape {} {}'.format(x_test.shape, y_test.shape))"
   ]
  },
  {
   "cell_type": "code",
   "execution_count": 13,
   "id": "a0916a42",
   "metadata": {},
   "outputs": [
    {
     "data": {
      "text/html": [
       "<style>#sk-container-id-1 {color: black;background-color: white;}#sk-container-id-1 pre{padding: 0;}#sk-container-id-1 div.sk-toggleable {background-color: white;}#sk-container-id-1 label.sk-toggleable__label {cursor: pointer;display: block;width: 100%;margin-bottom: 0;padding: 0.3em;box-sizing: border-box;text-align: center;}#sk-container-id-1 label.sk-toggleable__label-arrow:before {content: \"▸\";float: left;margin-right: 0.25em;color: #696969;}#sk-container-id-1 label.sk-toggleable__label-arrow:hover:before {color: black;}#sk-container-id-1 div.sk-estimator:hover label.sk-toggleable__label-arrow:before {color: black;}#sk-container-id-1 div.sk-toggleable__content {max-height: 0;max-width: 0;overflow: hidden;text-align: left;background-color: #f0f8ff;}#sk-container-id-1 div.sk-toggleable__content pre {margin: 0.2em;color: black;border-radius: 0.25em;background-color: #f0f8ff;}#sk-container-id-1 input.sk-toggleable__control:checked~div.sk-toggleable__content {max-height: 200px;max-width: 100%;overflow: auto;}#sk-container-id-1 input.sk-toggleable__control:checked~label.sk-toggleable__label-arrow:before {content: \"▾\";}#sk-container-id-1 div.sk-estimator input.sk-toggleable__control:checked~label.sk-toggleable__label {background-color: #d4ebff;}#sk-container-id-1 div.sk-label input.sk-toggleable__control:checked~label.sk-toggleable__label {background-color: #d4ebff;}#sk-container-id-1 input.sk-hidden--visually {border: 0;clip: rect(1px 1px 1px 1px);clip: rect(1px, 1px, 1px, 1px);height: 1px;margin: -1px;overflow: hidden;padding: 0;position: absolute;width: 1px;}#sk-container-id-1 div.sk-estimator {font-family: monospace;background-color: #f0f8ff;border: 1px dotted black;border-radius: 0.25em;box-sizing: border-box;margin-bottom: 0.5em;}#sk-container-id-1 div.sk-estimator:hover {background-color: #d4ebff;}#sk-container-id-1 div.sk-parallel-item::after {content: \"\";width: 100%;border-bottom: 1px solid gray;flex-grow: 1;}#sk-container-id-1 div.sk-label:hover label.sk-toggleable__label {background-color: #d4ebff;}#sk-container-id-1 div.sk-serial::before {content: \"\";position: absolute;border-left: 1px solid gray;box-sizing: border-box;top: 0;bottom: 0;left: 50%;z-index: 0;}#sk-container-id-1 div.sk-serial {display: flex;flex-direction: column;align-items: center;background-color: white;padding-right: 0.2em;padding-left: 0.2em;position: relative;}#sk-container-id-1 div.sk-item {position: relative;z-index: 1;}#sk-container-id-1 div.sk-parallel {display: flex;align-items: stretch;justify-content: center;background-color: white;position: relative;}#sk-container-id-1 div.sk-item::before, #sk-container-id-1 div.sk-parallel-item::before {content: \"\";position: absolute;border-left: 1px solid gray;box-sizing: border-box;top: 0;bottom: 0;left: 50%;z-index: -1;}#sk-container-id-1 div.sk-parallel-item {display: flex;flex-direction: column;z-index: 1;position: relative;background-color: white;}#sk-container-id-1 div.sk-parallel-item:first-child::after {align-self: flex-end;width: 50%;}#sk-container-id-1 div.sk-parallel-item:last-child::after {align-self: flex-start;width: 50%;}#sk-container-id-1 div.sk-parallel-item:only-child::after {width: 0;}#sk-container-id-1 div.sk-dashed-wrapped {border: 1px dashed gray;margin: 0 0.4em 0.5em 0.4em;box-sizing: border-box;padding-bottom: 0.4em;background-color: white;}#sk-container-id-1 div.sk-label label {font-family: monospace;font-weight: bold;display: inline-block;line-height: 1.2em;}#sk-container-id-1 div.sk-label-container {text-align: center;}#sk-container-id-1 div.sk-container {/* jupyter's `normalize.less` sets `[hidden] { display: none; }` but bootstrap.min.css set `[hidden] { display: none !important; }` so we also need the `!important` here to be able to override the default hidden behavior on the sphinx rendered scikit-learn.org. See: https://github.com/scikit-learn/scikit-learn/issues/21755 */display: inline-block !important;position: relative;}#sk-container-id-1 div.sk-text-repr-fallback {display: none;}</style><div id=\"sk-container-id-1\" class=\"sk-top-container\"><div class=\"sk-text-repr-fallback\"><pre>RandomForestRegressor(n_jobs=-1, oob_score=True, random_state=42)</pre><b>In a Jupyter environment, please rerun this cell to show the HTML representation or trust the notebook. <br />On GitHub, the HTML representation is unable to render, please try loading this page with nbviewer.org.</b></div><div class=\"sk-container\" hidden><div class=\"sk-item\"><div class=\"sk-estimator sk-toggleable\"><input class=\"sk-toggleable__control sk-hidden--visually\" id=\"sk-estimator-id-1\" type=\"checkbox\" checked><label for=\"sk-estimator-id-1\" class=\"sk-toggleable__label sk-toggleable__label-arrow\">RandomForestRegressor</label><div class=\"sk-toggleable__content\"><pre>RandomForestRegressor(n_jobs=-1, oob_score=True, random_state=42)</pre></div></div></div></div></div>"
      ],
      "text/plain": [
       "RandomForestRegressor(n_jobs=-1, oob_score=True, random_state=42)"
      ]
     },
     "execution_count": 13,
     "metadata": {},
     "output_type": "execute_result"
    }
   ],
   "source": [
    "rf = RandomForestRegressor(n_estimators=100, n_jobs=-1,\n",
    "oob_score=True, bootstrap=True,\n",
    "random_state=42)\n",
    "rf.fit(x_train, y_train)"
   ]
  },
  {
   "cell_type": "code",
   "execution_count": 14,
   "id": "43f04a7e",
   "metadata": {},
   "outputs": [],
   "source": [
    "y_train.pred=rf.predict(x_train)\n",
    "y_test_pred=rf.predict(x_test)"
   ]
  },
  {
   "cell_type": "code",
   "execution_count": 15,
   "id": "6252180d",
   "metadata": {},
   "outputs": [
    {
     "name": "stdout",
     "output_type": "stream",
     "text": [
      "訓練集Score:  0.9787190496325894\n",
      "測試集Score:  0.832592120068299\n",
      "MAE:  22.837938218390804\n",
      "RMSE:  38.40725252978886\n",
      "MAPE 0.4576756456418247\n"
     ]
    }
   ],
   "source": [
    "print(\"訓練集Score: \",rf.score(x_train, y_train))\n",
    "print(\"測試集Score: \",rf.score(x_test, y_test))\n",
    "print(\"MAE: \",mean_absolute_error(y_test,y_test_pred))\n",
    "print(\"RMSE: \",sqrt(mean_squared_error(y_test,y_test_pred)))\n",
    "print('MAPE',mean_absolute_percentage_error(y_test,y_test_pred))"
   ]
  },
  {
   "cell_type": "code",
   "execution_count": 16,
   "id": "b077d72b",
   "metadata": {},
   "outputs": [
    {
     "data": {
      "image/png": "[encoded data removed]",
      "text/plain": [
       "<Figure size 1200x600 with 1 Axes>"
      ]
     },
     "metadata": {},
     "output_type": "display_data"
    }
   ],
   "source": [
    "plt.style.use('seaborn-white')\n",
    "\n",
    "rf = RandomForestRegressor(n_estimators=100, n_jobs=-1,oob_score=True, bootstrap=True,\n",
    "random_state=42)\n",
    "rf.fit(x_train, y_train)\n",
    "importances = rf.feature_importances_\n",
    "feature_names = data.drop('pm2.5', axis=1).columns\n",
    "indices = np.argsort(importances)\n",
    "\n",
    "def feature_importance_graph(indices, importances, feature_names):\n",
    "    plt.figure(figsize=(12,6))\n",
    "    plt.title(\"Feature Importance\", fontsize=10)\n",
    "    plt.barh(range(len(indices)), importances[indices], color='g',  align=\"center\")\n",
    "    plt.yticks(range(len(indices)), feature_names[indices], rotation='horizontal',fontsize=14)\n",
    "    plt.ylim([-1, len(indices)])\n",
    "    \n",
    "feature_importance_graph(indices, importances, feature_names)\n",
    "plt.show()"
   ]
  },
  {
   "cell_type": "code",
   "execution_count": 17,
   "id": "47621f63",
   "metadata": {},
   "outputs": [],
   "source": [
    "data3=data.drop(columns=['Ir',\"Is\",\"cbwd\",'hour',\"year\",'PRES'])#留下前五名"
   ]
  },
  {
   "cell_type": "code",
   "execution_count": 18,
   "id": "646d5265",
   "metadata": {},
   "outputs": [
    {
     "data": {
      "text/plain": [
       "month  day  pm2.5  DEWP  TEMP   Iws \n",
       "7      8    79.0    23    25.0  1.79    2\n",
       "6      16   95.0    17    22.0  3.13    2\n",
       "8      21   133.0   20    23.0  0.89    2\n",
       "10     24   6.0     1     2.0   0.89    2\n",
       "2      11   113.0  -9    -4.0   0.89    2\n",
       "                                       ..\n",
       "5      1    215.0   12    13.0  8.04    1\n",
       "            227.0   13    15.0  9.83    1\n",
       "            243.0   12    14.0  2.67    1\n",
       "            257.0   14    15.0  0.89    1\n",
       "12     31   283.0  -12   -6.0   0.89    1\n",
       "Length: 41705, dtype: int64"
      ]
     },
     "execution_count": 18,
     "metadata": {},
     "output_type": "execute_result"
    }
   ],
   "source": [
    "data3.value_counts()#確認資料"
   ]
  },
  {
   "cell_type": "code",
   "execution_count": 19,
   "id": "13a2e019",
   "metadata": {},
   "outputs": [
    {
     "data": {
      "text/plain": [
       "month      int64\n",
       "day        int64\n",
       "pm2.5    float64\n",
       "DEWP       int64\n",
       "TEMP     float64\n",
       "Iws      float64\n",
       "dtype: object"
      ]
     },
     "execution_count": 19,
     "metadata": {},
     "output_type": "execute_result"
    }
   ],
   "source": [
    "data3.dtypes"
   ]
  },
  {
   "cell_type": "code",
   "execution_count": 20,
   "id": "a586ce21",
   "metadata": {},
   "outputs": [
    {
     "name": "stdout",
     "output_type": "stream",
     "text": [
      "(41757, 6)\n"
     ]
    }
   ],
   "source": [
    "print(data3.shape)"
   ]
  },
  {
   "cell_type": "code",
   "execution_count": 21,
   "id": "695328df",
   "metadata": {},
   "outputs": [],
   "source": [
    "y2= data3['pm2.5']\n",
    "x2=data3.drop(['pm2.5'], axis=1)\n",
    "x2_train, x2_test, y2_train, y2_test = train_test_split(x2,y2,test_size=0.20,random_state=42)"
   ]
  },
  {
   "cell_type": "code",
   "execution_count": 22,
   "id": "c85f3b6b",
   "metadata": {},
   "outputs": [
    {
     "name": "stdout",
     "output_type": "stream",
     "text": [
      "Train data shape (33405, 5) (33405,)\n",
      "Test data shape (8352, 5) (8352,)\n"
     ]
    }
   ],
   "source": [
    "print('Train data shape {} {}'.format(x2_train.shape, y2_train.shape))\n",
    "print('Test data shape {} {}'.format(x2_test.shape, y2_test.shape))"
   ]
  },
  {
   "cell_type": "code",
   "execution_count": 23,
   "id": "8543afb8",
   "metadata": {},
   "outputs": [
    {
     "data": {
      "text/html": [
       "<style>#sk-container-id-2 {color: black;background-color: white;}#sk-container-id-2 pre{padding: 0;}#sk-container-id-2 div.sk-toggleable {background-color: white;}#sk-container-id-2 label.sk-toggleable__label {cursor: pointer;display: block;width: 100%;margin-bottom: 0;padding: 0.3em;box-sizing: border-box;text-align: center;}#sk-container-id-2 label.sk-toggleable__label-arrow:before {content: \"▸\";float: left;margin-right: 0.25em;color: #696969;}#sk-container-id-2 label.sk-toggleable__label-arrow:hover:before {color: black;}#sk-container-id-2 div.sk-estimator:hover label.sk-toggleable__label-arrow:before {color: black;}#sk-container-id-2 div.sk-toggleable__content {max-height: 0;max-width: 0;overflow: hidden;text-align: left;background-color: #f0f8ff;}#sk-container-id-2 div.sk-toggleable__content pre {margin: 0.2em;color: black;border-radius: 0.25em;background-color: #f0f8ff;}#sk-container-id-2 input.sk-toggleable__control:checked~div.sk-toggleable__content {max-height: 200px;max-width: 100%;overflow: auto;}#sk-container-id-2 input.sk-toggleable__control:checked~label.sk-toggleable__label-arrow:before {content: \"▾\";}#sk-container-id-2 div.sk-estimator input.sk-toggleable__control:checked~label.sk-toggleable__label {background-color: #d4ebff;}#sk-container-id-2 div.sk-label input.sk-toggleable__control:checked~label.sk-toggleable__label {background-color: #d4ebff;}#sk-container-id-2 input.sk-hidden--visually {border: 0;clip: rect(1px 1px 1px 1px);clip: rect(1px, 1px, 1px, 1px);height: 1px;margin: -1px;overflow: hidden;padding: 0;position: absolute;width: 1px;}#sk-container-id-2 div.sk-estimator {font-family: monospace;background-color: #f0f8ff;border: 1px dotted black;border-radius: 0.25em;box-sizing: border-box;margin-bottom: 0.5em;}#sk-container-id-2 div.sk-estimator:hover {background-color: #d4ebff;}#sk-container-id-2 div.sk-parallel-item::after {content: \"\";width: 100%;border-bottom: 1px solid gray;flex-grow: 1;}#sk-container-id-2 div.sk-label:hover label.sk-toggleable__label {background-color: #d4ebff;}#sk-container-id-2 div.sk-serial::before {content: \"\";position: absolute;border-left: 1px solid gray;box-sizing: border-box;top: 0;bottom: 0;left: 50%;z-index: 0;}#sk-container-id-2 div.sk-serial {display: flex;flex-direction: column;align-items: center;background-color: white;padding-right: 0.2em;padding-left: 0.2em;position: relative;}#sk-container-id-2 div.sk-item {position: relative;z-index: 1;}#sk-container-id-2 div.sk-parallel {display: flex;align-items: stretch;justify-content: center;background-color: white;position: relative;}#sk-container-id-2 div.sk-item::before, #sk-container-id-2 div.sk-parallel-item::before {content: \"\";position: absolute;border-left: 1px solid gray;box-sizing: border-box;top: 0;bottom: 0;left: 50%;z-index: -1;}#sk-container-id-2 div.sk-parallel-item {display: flex;flex-direction: column;z-index: 1;position: relative;background-color: white;}#sk-container-id-2 div.sk-parallel-item:first-child::after {align-self: flex-end;width: 50%;}#sk-container-id-2 div.sk-parallel-item:last-child::after {align-self: flex-start;width: 50%;}#sk-container-id-2 div.sk-parallel-item:only-child::after {width: 0;}#sk-container-id-2 div.sk-dashed-wrapped {border: 1px dashed gray;margin: 0 0.4em 0.5em 0.4em;box-sizing: border-box;padding-bottom: 0.4em;background-color: white;}#sk-container-id-2 div.sk-label label {font-family: monospace;font-weight: bold;display: inline-block;line-height: 1.2em;}#sk-container-id-2 div.sk-label-container {text-align: center;}#sk-container-id-2 div.sk-container {/* jupyter's `normalize.less` sets `[hidden] { display: none; }` but bootstrap.min.css set `[hidden] { display: none !important; }` so we also need the `!important` here to be able to override the default hidden behavior on the sphinx rendered scikit-learn.org. See: https://github.com/scikit-learn/scikit-learn/issues/21755 */display: inline-block !important;position: relative;}#sk-container-id-2 div.sk-text-repr-fallback {display: none;}</style><div id=\"sk-container-id-2\" class=\"sk-top-container\"><div class=\"sk-text-repr-fallback\"><pre>RandomForestRegressor(n_jobs=-1, oob_score=True, random_state=42)</pre><b>In a Jupyter environment, please rerun this cell to show the HTML representation or trust the notebook. <br />On GitHub, the HTML representation is unable to render, please try loading this page with nbviewer.org.</b></div><div class=\"sk-container\" hidden><div class=\"sk-item\"><div class=\"sk-estimator sk-toggleable\"><input class=\"sk-toggleable__control sk-hidden--visually\" id=\"sk-estimator-id-2\" type=\"checkbox\" checked><label for=\"sk-estimator-id-2\" class=\"sk-toggleable__label sk-toggleable__label-arrow\">RandomForestRegressor</label><div class=\"sk-toggleable__content\"><pre>RandomForestRegressor(n_jobs=-1, oob_score=True, random_state=42)</pre></div></div></div></div></div>"
      ],
      "text/plain": [
       "RandomForestRegressor(n_jobs=-1, oob_score=True, random_state=42)"
      ]
     },
     "execution_count": 23,
     "metadata": {},
     "output_type": "execute_result"
    }
   ],
   "source": [
    "rf2 = RandomForestRegressor(n_estimators=100, n_jobs=-1,oob_score=True, bootstrap=True,\n",
    "random_state=42)\n",
    "rf2.fit(x2_train, y2_train)"
   ]
  },
  {
   "cell_type": "code",
   "execution_count": 24,
   "id": "baf42453",
   "metadata": {},
   "outputs": [],
   "source": [
    "y2_train.pred=rf2.predict(x2_train)\n",
    "y2_test_pred=rf2.predict(x2_test)"
   ]
  },
  {
   "cell_type": "code",
   "execution_count": 25,
   "id": "b7022805",
   "metadata": {},
   "outputs": [
    {
     "name": "stdout",
     "output_type": "stream",
     "text": [
      "訓練集Score:  0.9575157610320394\n",
      "測試集Score:  0.7160575951671809\n",
      "MAE:  30.76346756349028\n",
      "RMSE:  50.01962377197227\n",
      "MAPE 0.5756733491441709\n"
     ]
    }
   ],
   "source": [
    "print(\"訓練集Score: \",rf2.score(x2_train, y2_train))\n",
    "print(\"測試集Score: \",rf2.score(x2_test, y2_test))\n",
    "print(\"MAE: \",mean_absolute_error(y2_test,y2_test_pred))\n",
    "print(\"RMSE: \",sqrt(mean_squared_error(y2_test,y2_test_pred)))\n",
    "print('MAPE',mean_absolute_percentage_error(y2_test,y2_test_pred))"
   ]
  },
  {
   "cell_type": "code",
   "execution_count": null,
   "id": "d6376ecc",
   "metadata": {},
   "outputs": [],
   "source": []
  }
 ],
 "metadata": {
  "kernelspec": {
   "display_name": "Python 3 (ipykernel)",
   "language": "python",
   "name": "python3"
  },
  "language_info": {
   "codemirror_mode": {
    "name": "ipython",
    "version": 3
   },
   "file_extension": ".py",
   "mimetype": "text/x-python",
   "name": "python",
   "nbconvert_exporter": "python",
   "pygments_lexer": "ipython3",
   "version": "3.9.7"
  },
  "vscode": {
   "interpreter": {
    "hash": "14958d3aee5f1cad06795f787e54b96185c25fb40dfec723a5be941f3a531b8c"
   }
  }
 },
 "nbformat": 4,
 "nbformat_minor": 5
}
