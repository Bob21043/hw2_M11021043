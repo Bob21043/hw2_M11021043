{
 "cells": [
  {
   "cell_type": "code",
   "execution_count": 1,
   "id": "31900eb3",
   "metadata": {},
   "outputs": [],
   "source": [
    "import pandas as pd\n",
    "import numpy as np\n",
    "from sklearn import metrics\n",
    "#import statsmodels.formula.api as smf\n",
    "from sklearn import preprocessing\n",
    "from sklearn.preprocessing import LabelEncoder\n",
    "#Classification Algorithms \n",
    "from sklearn import ensemble\n",
    "from xgboost import XGBRegressor\n",
    "from sklearn import metrics as m\n",
    "from sklearn.metrics import roc_auc_score\n",
    "from sklearn.model_selection import train_test_split\n",
    "from sklearn import tree\n",
    "from sklearn.metrics import accuracy_score, confusion_matrix, precision_score, recall_score, f1_score\n",
    "from sklearn.metrics import mean_absolute_error\n",
    "from sklearn.metrics import mean_squared_error\n",
    "from sklearn.metrics import mean_absolute_percentage_error\n",
    "from math import sqrt\n",
    "# visualization\n",
    "import seaborn as sns\n",
    "import matplotlib.pyplot as plt\n",
    "%matplotlib inline"
   ]
  },
  {
   "cell_type": "code",
   "execution_count": 2,
   "id": "26dcf799",
   "metadata": {},
   "outputs": [],
   "source": [
    "data = pd.read_csv(\"pm2.5改.csv\",header='infer')"
   ]
  },
  {
   "cell_type": "code",
   "execution_count": 3,
   "id": "eb4b5fe9",
   "metadata": {},
   "outputs": [
    {
     "name": "stdout",
     "output_type": "stream",
     "text": [
      "        year  month    day   hour  pm2.5   DEWP   TEMP   PRES   cbwd    Iws  \\\n",
      "0      False  False  False  False   True  False  False  False  False  False   \n",
      "1      False  False  False  False   True  False  False  False  False  False   \n",
      "2      False  False  False  False   True  False  False  False  False  False   \n",
      "3      False  False  False  False   True  False  False  False  False  False   \n",
      "4      False  False  False  False   True  False  False  False  False  False   \n",
      "...      ...    ...    ...    ...    ...    ...    ...    ...    ...    ...   \n",
      "43819  False  False  False  False  False  False  False  False  False  False   \n",
      "43820  False  False  False  False  False  False  False  False  False  False   \n",
      "43821  False  False  False  False  False  False  False  False  False  False   \n",
      "43822  False  False  False  False  False  False  False  False  False  False   \n",
      "43823  False  False  False  False  False  False  False  False  False  False   \n",
      "\n",
      "          Is     Ir  \n",
      "0      False  False  \n",
      "1      False  False  \n",
      "2      False  False  \n",
      "3      False  False  \n",
      "4      False  False  \n",
      "...      ...    ...  \n",
      "43819  False  False  \n",
      "43820  False  False  \n",
      "43821  False  False  \n",
      "43822  False  False  \n",
      "43823  False  False  \n",
      "\n",
      "[43824 rows x 12 columns]\n"
     ]
    }
   ],
   "source": [
    "print(data.isnull()) #資料全筆數"
   ]
  },
  {
   "cell_type": "code",
   "execution_count": 4,
   "id": "85a61115",
   "metadata": {},
   "outputs": [
    {
     "data": {
      "text/plain": [
       "year        0\n",
       "month       0\n",
       "day         0\n",
       "hour        0\n",
       "pm2.5    2067\n",
       "DEWP        0\n",
       "TEMP        0\n",
       "PRES        0\n",
       "cbwd        0\n",
       "Iws         0\n",
       "Is          0\n",
       "Ir          0\n",
       "dtype: int64"
      ]
     },
     "execution_count": 4,
     "metadata": {},
     "output_type": "execute_result"
    }
   ],
   "source": [
    "data.isnull().sum()#確認有無缺失值"
   ]
  },
  {
   "cell_type": "code",
   "execution_count": 5,
   "id": "2a78c115",
   "metadata": {},
   "outputs": [],
   "source": [
    "data=data.dropna() #刪去有NA的資料"
   ]
  },
  {
   "cell_type": "code",
   "execution_count": 6,
   "id": "2b01e2f9",
   "metadata": {},
   "outputs": [
    {
     "name": "stdout",
     "output_type": "stream",
     "text": [
      "<class 'pandas.core.frame.DataFrame'>\n",
      "Int64Index: 41757 entries, 24 to 43823\n",
      "Data columns (total 12 columns):\n",
      " #   Column  Non-Null Count  Dtype  \n",
      "---  ------  --------------  -----  \n",
      " 0   year    41757 non-null  int64  \n",
      " 1   month   41757 non-null  int64  \n",
      " 2   day     41757 non-null  int64  \n",
      " 3   hour    41757 non-null  int64  \n",
      " 4   pm2.5   41757 non-null  float64\n",
      " 5   DEWP    41757 non-null  int64  \n",
      " 6   TEMP    41757 non-null  float64\n",
      " 7   PRES    41757 non-null  float64\n",
      " 8   cbwd    41757 non-null  object \n",
      " 9   Iws     41757 non-null  float64\n",
      " 10  Is      41757 non-null  int64  \n",
      " 11  Ir      41757 non-null  int64  \n",
      "dtypes: float64(4), int64(7), object(1)\n",
      "memory usage: 4.1+ MB\n"
     ]
    }
   ],
   "source": [
    "data.info()"
   ]
  },
  {
   "cell_type": "code",
   "execution_count": 7,
   "id": "2a111e1a",
   "metadata": {},
   "outputs": [
    {
     "data": {
      "text/plain": [
       "year  month  day  hour  pm2.5  DEWP  TEMP   PRES    cbwd  Iws     Is  Ir\n",
       "2010  1      2    0     129.0  -16   -4.0   1020.0  SE    1.79    0   0     1\n",
       "2013  5      25   10    43.0    9     27.0  1012.0  cv    1.78    0   0     1\n",
       "             24   16    146.0   15    23.0  1013.0  SE    7.15    0   0     1\n",
       "                  17    76.0    16    22.0  1012.0  SE    8.94    0   0     1\n",
       "                  18    56.0    15    23.0  1012.0  cv    0.89    0   0     1\n",
       "                                                                           ..\n",
       "2011  9      25   14    277.0   16    25.0  1016.0  SE    8.05    0   0     1\n",
       "                  15    260.0   15    25.0  1015.0  SE    11.18   0   0     1\n",
       "                  16    256.0   15    26.0  1015.0  SE    14.31   0   0     1\n",
       "                  17    256.0   16    24.0  1015.0  SE    16.10   0   0     1\n",
       "2014  12     31   23    12.0   -21   -3.0   1034.0  NW    249.85  0   0     1\n",
       "Length: 41757, dtype: int64"
      ]
     },
     "execution_count": 7,
     "metadata": {},
     "output_type": "execute_result"
    }
   ],
   "source": [
    "data.value_counts()#確認使用清洗後數據"
   ]
  },
  {
   "cell_type": "code",
   "execution_count": 8,
   "id": "9372ca8e",
   "metadata": {},
   "outputs": [],
   "source": [
    "# Convert the columns into categorical variables\n",
    "data1 = data.copy()\n",
    "data1['cbwd'] = data1['cbwd'].astype('category').cat.codes"
   ]
  },
  {
   "cell_type": "code",
   "execution_count": 9,
   "id": "5b15e64a",
   "metadata": {},
   "outputs": [
    {
     "data": {
      "text/plain": [
       "year       int64\n",
       "month      int64\n",
       "day        int64\n",
       "hour       int64\n",
       "pm2.5    float64\n",
       "DEWP       int64\n",
       "TEMP     float64\n",
       "PRES     float64\n",
       "cbwd        int8\n",
       "Iws      float64\n",
       "Is         int64\n",
       "Ir         int64\n",
       "dtype: object"
      ]
     },
     "execution_count": 9,
     "metadata": {},
     "output_type": "execute_result"
    }
   ],
   "source": [
    "data1.dtypes"
   ]
  },
  {
   "cell_type": "code",
   "execution_count": 10,
   "id": "81c6eff8",
   "metadata": {},
   "outputs": [
    {
     "name": "stdout",
     "output_type": "stream",
     "text": [
      "(41757, 12)\n"
     ]
    }
   ],
   "source": [
    "print(data1.shape)"
   ]
  },
  {
   "cell_type": "code",
   "execution_count": 11,
   "id": "1b7ce7a7",
   "metadata": {},
   "outputs": [],
   "source": [
    "y = data1['pm2.5']\n",
    "x=data1.drop(['pm2.5'], axis=1)\n",
    "x_train, x_test, y_train, y_test = train_test_split(x,y,test_size=0.20,random_state=42)"
   ]
  },
  {
   "cell_type": "code",
   "execution_count": 12,
   "id": "99ab5cd9",
   "metadata": {},
   "outputs": [
    {
     "name": "stdout",
     "output_type": "stream",
     "text": [
      "Train data shape (33405, 11) (33405,)\n",
      "Test data shape (8352, 11) (8352,)\n"
     ]
    }
   ],
   "source": [
    "print('Train data shape {} {}'.format(x_train.shape, y_train.shape))\n",
    "print('Test data shape {} {}'.format(x_test.shape, y_test.shape))"
   ]
  },
  {
   "cell_type": "code",
   "execution_count": 13,
   "id": "a0916a42",
   "metadata": {},
   "outputs": [],
   "source": [
    "XGB = XGBRegressor(n_estimators=100,n_jobs=-1,learning_rate=0.3,random_state=42)\n",
    "XGB_fit = XGB.fit(x_train, y_train)\n",
    "test_y_predicted = XGB.predict(x_test)"
   ]
  },
  {
   "cell_type": "code",
   "execution_count": 14,
   "id": "faeb12fe",
   "metadata": {},
   "outputs": [
    {
     "name": "stdout",
     "output_type": "stream",
     "text": [
      "Score:  0.841723138123085\n",
      "Score:  0.7548579783258387\n",
      "MAE:  30.404061874024162\n",
      "RMSE:  46.47658123911071\n",
      "MAPE 0.596907077576596\n"
     ]
    }
   ],
   "source": [
    "print(\"Score: \",XGB.score(x_train, y_train))\n",
    "print(\"Score: \",XGB.score(x_test, y_test))\n",
    "print(\"MAE: \",mean_absolute_error(y_test,test_y_predicted))\n",
    "print(\"RMSE: \",sqrt(mean_squared_error(y_test,test_y_predicted)))\n",
    "print('MAPE',mean_absolute_percentage_error(y_test,test_y_predicted))"
   ]
  },
  {
   "cell_type": "code",
   "execution_count": 15,
   "id": "b077d72b",
   "metadata": {
    "scrolled": true
   },
   "outputs": [
    {
     "data": {
      "image/png": "[encoded data removed]",
      "text/plain": [
       "<Figure size 1200x600 with 1 Axes>"
      ]
     },
     "metadata": {},
     "output_type": "display_data"
    }
   ],
   "source": [
    "plt.style.use('seaborn-white')\n",
    "\n",
    "XGBoost=XGBRegressor(n_estimators=100, learning_rate= 0.3,random_state=42)\n",
    "XGBoost.fit(x_train, y_train)\n",
    "importances = XGBoost.feature_importances_\n",
    "feature_names = data.drop('pm2.5', axis=1).columns\n",
    "indices = np.argsort(importances)\n",
    "\n",
    "def feature_importance_graph(indices, importances, feature_names):\n",
    "    plt.figure(figsize=(12,6))\n",
    "    plt.title(\"Feature Importance\", fontsize=10)\n",
    "    plt.barh(range(len(indices)), importances[indices], color='g',  align=\"center\")\n",
    "    plt.yticks(range(len(indices)), feature_names[indices], rotation='horizontal',fontsize=14)\n",
    "    plt.ylim([-1, len(indices)])\n",
    "    \n",
    "feature_importance_graph(indices, importances, feature_names)\n",
    "plt.show()"
   ]
  },
  {
   "cell_type": "code",
   "execution_count": 16,
   "id": "47621f63",
   "metadata": {},
   "outputs": [],
   "source": [
    "data3=data.drop(columns=['hour',\"Ir\",\"Is\",'PRES','year',\"day\"])#留下前五名"
   ]
  },
  {
   "cell_type": "code",
   "execution_count": 17,
   "id": "646d5265",
   "metadata": {},
   "outputs": [
    {
     "data": {
      "text/plain": [
       "month  pm2.5  DEWP  TEMP   cbwd  Iws  \n",
       "6      161.0   19    21.0  cv    0.89     3\n",
       "8      35.0    19    30.0  SE    1.79     2\n",
       "9      89.0    16    20.0  cv    0.89     2\n",
       "3      21.0   -12    8.0   cv    0.89     2\n",
       "5      108.0   17    23.0  cv    1.79     2\n",
       "                                         ..\n",
       "       12.0   -6     26.0  NW    68.39    1\n",
       "              -4     18.0  NW    92.09    1\n",
       "              -3     22.0  cv    4.91     1\n",
       "                     26.0  cv    4.02     1\n",
       "12     615.0  -7    -4.0   cv    5.34     1\n",
       "Length: 41698, dtype: int64"
      ]
     },
     "execution_count": 17,
     "metadata": {},
     "output_type": "execute_result"
    }
   ],
   "source": [
    "data3.value_counts()#確認資料"
   ]
  },
  {
   "cell_type": "code",
   "execution_count": 18,
   "id": "bec9baaf",
   "metadata": {},
   "outputs": [],
   "source": [
    "# Convert the columns into categorical variables\n",
    "data3 = data3.copy()\n",
    "data3['cbwd'] = data3['cbwd'].astype('category').cat.codes"
   ]
  },
  {
   "cell_type": "code",
   "execution_count": 19,
   "id": "13a2e019",
   "metadata": {},
   "outputs": [
    {
     "data": {
      "text/plain": [
       "month      int64\n",
       "pm2.5    float64\n",
       "DEWP       int64\n",
       "TEMP     float64\n",
       "cbwd        int8\n",
       "Iws      float64\n",
       "dtype: object"
      ]
     },
     "execution_count": 19,
     "metadata": {},
     "output_type": "execute_result"
    }
   ],
   "source": [
    "data3.dtypes"
   ]
  },
  {
   "cell_type": "code",
   "execution_count": 20,
   "id": "a586ce21",
   "metadata": {},
   "outputs": [
    {
     "name": "stdout",
     "output_type": "stream",
     "text": [
      "(41757, 6)\n"
     ]
    }
   ],
   "source": [
    "print(data3.shape)"
   ]
  },
  {
   "cell_type": "code",
   "execution_count": 21,
   "id": "695328df",
   "metadata": {},
   "outputs": [],
   "source": [
    "y2 = data3['pm2.5']\n",
    "x2=data3.drop(['pm2.5'], axis=1)\n",
    "x2_train, x2_test, y2_train, y2_test = train_test_split(x2,y2,test_size=0.20,random_state=42)"
   ]
  },
  {
   "cell_type": "code",
   "execution_count": 22,
   "id": "c85f3b6b",
   "metadata": {},
   "outputs": [
    {
     "name": "stdout",
     "output_type": "stream",
     "text": [
      "Train data shape (33405, 5) (33405,)\n",
      "Test data shape (8352, 5) (8352,)\n"
     ]
    }
   ],
   "source": [
    "print('Train data shape {} {}'.format(x2_train.shape, y2_train.shape))\n",
    "print('Test data shape {} {}'.format(x2_test.shape, y2_test.shape))"
   ]
  },
  {
   "cell_type": "code",
   "execution_count": 23,
   "id": "8543afb8",
   "metadata": {},
   "outputs": [],
   "source": [
    "XGB2= XGBRegressor(n_estimators=100,n_jobs=-1,learning_rate=0.3,random_state=42)\n",
    "XGB2_it = XGB2.fit(x2_train, y2_train)\n",
    "y2_test_predicted = XGB2.predict(x2_test)"
   ]
  },
  {
   "cell_type": "code",
   "execution_count": 24,
   "id": "b500bab7",
   "metadata": {},
   "outputs": [
    {
     "name": "stdout",
     "output_type": "stream",
     "text": [
      "Score:  0.6441555581751965\n",
      "Score:  0.5249968428224465\n",
      "MAE:  42.50241080107046\n",
      "RMSE:  64.6954206222086\n",
      "MAPE 0.7639915581809628\n"
     ]
    }
   ],
   "source": [
    "print(\"Score: \",XGB2.score(x2_train, y2_train))\n",
    "print(\"Score: \",XGB2.score(x2_test, y2_test))\n",
    "print(\"MAE: \",mean_absolute_error(y2_test,y2_test_predicted))\n",
    "print(\"RMSE: \",sqrt(mean_squared_error(y2_test,y2_test_predicted)))\n",
    "print('MAPE',mean_absolute_percentage_error(y2_test,y2_test_predicted))"
   ]
  },
  {
   "cell_type": "code",
   "execution_count": null,
   "id": "d6376ecc",
   "metadata": {},
   "outputs": [],
   "source": []
  },
  {
   "cell_type": "code",
   "execution_count": null,
   "id": "9cf88e57",
   "metadata": {},
   "outputs": [],
   "source": []
  }
 ],
 "metadata": {
  "kernelspec": {
   "display_name": "Python 3 (ipykernel)",
   "language": "python",
   "name": "python3"
  },
  "language_info": {
   "codemirror_mode": {
    "name": "ipython",
    "version": 3
   },
   "file_extension": ".py",
   "mimetype": "text/x-python",
   "name": "python",
   "nbconvert_exporter": "python",
   "pygments_lexer": "ipython3",
   "version": "3.9.7"
  },
  "vscode": {
   "interpreter": {
    "hash": "14958d3aee5f1cad06795f787e54b96185c25fb40dfec723a5be941f3a531b8c"
   }
  }
 },
 "nbformat": 4,
 "nbformat_minor": 5
}
