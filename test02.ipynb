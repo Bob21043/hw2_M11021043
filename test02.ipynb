{
 "cells": [
  {
   "cell_type": "code",
   "execution_count": 4,
   "metadata": {},
   "outputs": [],
   "source": [
    "from bs4 import BeautifulSoup\n",
    "import requests\n"
   ]
  },
  {
   "cell_type": "code",
   "execution_count": 2,
   "metadata": {},
   "outputs": [],
   "source": [
    "# 目標網頁的URL\n",
    "url = \"https://tw.stock.yahoo.com/quote/2330.TW\"\n",
    "\n",
    "# 發送HTTP請求並獲取網頁內容\n",
    "response = requests.get(url)"
   ]
  },
  {
   "cell_type": "code",
   "execution_count": 3,
   "metadata": {},
   "outputs": [
    {
     "name": "stdout",
     "output_type": "stream",
     "text": [
      "成功取得网页内容！\n",
      "成交: 574\n",
      "開盤: 578\n",
      "最高: 579\n",
      "最低: 570\n",
      "均價: 573\n",
      "成交金額(億): 142.55\n",
      "昨收: 575\n",
      "漲跌幅: 0.17%\n",
      "漲跌: 1.00\n",
      "總量: 24,850\n",
      "昨量: 26,325\n",
      "振幅: 1.57%\n"
     ]
    }
   ],
   "source": [
    "# 检查是否成功取得网页内容\n",
    "if response.status_code == 200:\n",
    "    print(\"成功取得网页内容！\")\n",
    "\n",
    "    # 使用BeautifulSoup解析HTML\n",
    "    soup = BeautifulSoup(response.text, 'html.parser')\n",
    "\n",
    "    # 找到包含各项信息的<ul>元素\n",
    "    ul_element = soup.find('ul', class_='D(f) Fld(c) Flw(w) H(192px) Mx(-16px)')\n",
    "\n",
    "    # 提取各项信息\n",
    "    if ul_element:\n",
    "        li_elements = ul_element.find_all('li')\n",
    "        for li in li_elements:\n",
    "            name = li.find('span', class_='C(#232a31) Fz(16px)--mobile Fz(14px)').text\n",
    "            value = li.find('span', class_='Fw(600)').text\n",
    "            print(f\"{name}: {value}\")\n",
    "    else:\n",
    "        print(\"找不到包含各项信息的<ul>元素\")\n",
    "else:\n",
    "    print(f\"错误：无法获取网页内容，状态码：{response.status_code}\")"
   ]
  }
 ],
 "metadata": {
  "kernelspec": {
   "display_name": "Python 3",
   "language": "python",
   "name": "python3"
  },
  "language_info": {
   "codemirror_mode": {
    "name": "ipython",
    "version": 3
   },
   "file_extension": ".py",
   "mimetype": "text/x-python",
   "name": "python",
   "nbconvert_exporter": "python",
   "pygments_lexer": "ipython3",
   "version": "3.9.4"
  }
 },
 "nbformat": 4,
 "nbformat_minor": 2
}
